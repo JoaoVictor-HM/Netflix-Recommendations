{
  "nbformat": 4,
  "nbformat_minor": 5,
  "metadata": {
    "kernelspec": {
      "display_name": "Python 3",
      "language": "python",
      "name": "python3"
    },
    "language_info": {
      "codemirror_mode": {
        "name": "ipython",
        "version": 3
      },
      "file_extension": ".py",
      "mimetype": "text/x-python",
      "name": "python",
      "nbconvert_exporter": "python",
      "pygments_lexer": "ipython3",
      "version": "3.8.5"
    },
    "colab": {
      "name": "netflix_analysis.ipynb",
      "provenance": [],
      "collapsed_sections": []
    }
  },
  "cells": [
    {
      "cell_type": "code",
      "metadata": {
        "id": "heated-clarity"
      },
      "source": [
        "import pandas as pd\n",
        "import numpy as np"
      ],
      "id": "heated-clarity",
      "execution_count": null,
      "outputs": []
    },
    {
      "cell_type": "code",
      "metadata": {
        "id": "lELabn4DhLdT"
      },
      "source": [
        "data = pd.read_csv('/content/netflix_titles.csv')"
      ],
      "id": "lELabn4DhLdT",
      "execution_count": null,
      "outputs": []
    },
    {
      "cell_type": "code",
      "metadata": {
        "id": "9vPaX9nKhcjM"
      },
      "source": [
        "data.columns"
      ],
      "id": "9vPaX9nKhcjM",
      "execution_count": null,
      "outputs": []
    },
    {
      "cell_type": "code",
      "metadata": {
        "id": "FRyyPTBXh6fI"
      },
      "source": [
        "data.head(3)"
      ],
      "id": "FRyyPTBXh6fI",
      "execution_count": null,
      "outputs": []
    },
    {
      "cell_type": "markdown",
      "metadata": {
        "id": "GnchA-exO8kq"
      },
      "source": [
        "#### Separando o dataframe em 2: um pra filmes e outro para series"
      ],
      "id": "GnchA-exO8kq"
    },
    {
      "cell_type": "code",
      "metadata": {
        "id": "Qk76PhcJQPyo"
      },
      "source": [
        "tv_show = data['type'] == 'TV Show'\n",
        "tv_show_data = data[tv_show].reset_index()\n",
        "tv_show_data.head()\n",
        "tv_show_data = tv_show_data.drop(['index', 'show_id', 'date_added', 'release_year', 'type', 'director'], axis=1)\n",
        "tv_show_data.head()\n"
      ],
      "id": "Qk76PhcJQPyo",
      "execution_count": null,
      "outputs": []
    },
    {
      "cell_type": "code",
      "metadata": {
        "id": "5yIn-4IYR60D"
      },
      "source": [
        "movie = data['type'] == 'Movie'\n",
        "movie_data = data[movie].reset_index()\n",
        "movie_data.head()\n",
        "movie_data = movie_data.drop(['index', 'show_id', 'type', 'date_added', 'release_year'], axis=1)\n",
        "movie_data.head()\n"
      ],
      "id": "5yIn-4IYR60D",
      "execution_count": null,
      "outputs": []
    },
    {
      "cell_type": "code",
      "metadata": {
        "id": "YwCrJme8PjUX"
      },
      "source": [
        "movie_data.head()"
      ],
      "id": "YwCrJme8PjUX",
      "execution_count": null,
      "outputs": []
    },
    {
      "cell_type": "code",
      "metadata": {
        "id": "7GN-oDIqPtJ9"
      },
      "source": [
        "tv_show_data.head()"
      ],
      "id": "7GN-oDIqPtJ9",
      "execution_count": null,
      "outputs": []
    },
    {
      "cell_type": "markdown",
      "metadata": {
        "id": "pXoKQsuHO2BY"
      },
      "source": [
        "#### Obtendo os diretores e atores para os filmes"
      ],
      "id": "pXoKQsuHO2BY"
    },
    {
      "cell_type": "code",
      "metadata": {
        "id": "1HTz_FL5VqPB"
      },
      "source": [
        "movie_data['director']\n",
        "directors = []\n",
        "unique_directors = []\n",
        "for director in movie_data['director']:\n",
        "  directors.append(director)\n",
        "for director in directors:\n",
        "  if director not in unique_directors:\n",
        "    unique_directors.append(director)"
      ],
      "id": "1HTz_FL5VqPB",
      "execution_count": null,
      "outputs": []
    },
    {
      "cell_type": "code",
      "metadata": {
        "id": "rsTisuAm_ley"
      },
      "source": [
        "cast = movie_data['cast']\n",
        "cast.astype('string')\n",
        "print(cast[0])\n",
        "actors = []\n",
        "for i in cast:\n",
        "  try:\n",
        "    i = i.split(', ')\n",
        "    for actor in i:\n",
        "      actors.append(actor)\n",
        "  except Exception as e:\n",
        "    pass\n",
        "\n",
        "unique_actors = []\n",
        "for actor in actors:\n",
        "  if actor not in unique_actors:\n",
        "    unique_actors.append(actor)"
      ],
      "id": "rsTisuAm_ley",
      "execution_count": null,
      "outputs": []
    },
    {
      "cell_type": "code",
      "metadata": {
        "id": "67wf2kB3K2up"
      },
      "source": [
        "print(unique_actors)\n",
        "print(actors)\n",
        "print(unique_actors == actors)\n",
        "\n",
        "print(unique_directors)\n",
        "print(directors)\n",
        "print(unique_directors == directors)"
      ],
      "id": "67wf2kB3K2up",
      "execution_count": null,
      "outputs": []
    },
    {
      "cell_type": "markdown",
      "metadata": {
        "id": "zAUEO5wXOv9D"
      },
      "source": [
        "#### Obtendo os diretores e atores para as series\n"
      ],
      "id": "zAUEO5wXOv9D"
    },
    {
      "cell_type": "code",
      "metadata": {
        "id": "6g3qFjZ6OkvT"
      },
      "source": [
        "cast = tv_show_data['cast']\n",
        "cast.astype('string')\n",
        "print(cast[0])\n",
        "actors = []\n",
        "for i in cast:\n",
        "  try:\n",
        "    i = i.split(', ')\n",
        "    for actor in i:\n",
        "      actors.append(actor)\n",
        "  except Exception as e:\n",
        "    pass\n",
        "\n",
        "unique_actors = []\n",
        "for actor in actors:\n",
        "  if actor not in unique_actors:\n",
        "    unique_actors.append(actor)\n"
      ],
      "id": "6g3qFjZ6OkvT",
      "execution_count": null,
      "outputs": []
    },
    {
      "cell_type": "code",
      "metadata": {
        "id": "_cTX1_BtOsF8"
      },
      "source": [
        "print(unique_actors)\n",
        "print(actors)\n",
        "print(unique_actors == actors)"
      ],
      "id": "_cTX1_BtOsF8",
      "execution_count": null,
      "outputs": []
    },
    {
      "cell_type": "markdown",
      "metadata": {
        "id": "2SK5gU0CQKmX"
      },
      "source": [
        "#### Obtendo os gêneros disponíveis"
      ],
      "id": "2SK5gU0CQKmX"
    },
    {
      "cell_type": "code",
      "metadata": {
        "id": "nRTeY-obQPYY"
      },
      "source": [
        "genres_data = data['listed_in']\n",
        "genres = []\n",
        "unique_genres = []\n",
        "genres_data.astype('string')\n",
        "for i in genres_data:\n",
        "  try:\n",
        "    i = i.split(', ')\n",
        "    for item in i:\n",
        "      genres.append(item)\n",
        "  except Exception as e:\n",
        "    pass\n",
        "\n",
        "for genre in genres:\n",
        "  if genre not in unique_genres:\n",
        "    unique_genres.append(genre)"
      ],
      "id": "nRTeY-obQPYY",
      "execution_count": null,
      "outputs": []
    },
    {
      "cell_type": "code",
      "metadata": {
        "id": "KriWW_smBF5g"
      },
      "source": [
        "def busca_genero(genero):\n",
        "  condicao = data['listed_in'].str.find(genero) != -1\n",
        "  resultado = pd.DataFrame(data[condicao])\n",
        "  return resultado\n",
        "\n",
        "def busca_genero_TvShow(genero):\n",
        "  condicao = tv_show_data['listed_in'].str.find(genero) != -1\n",
        "  resultado = pd.DataFrame(tv_show_data[condicao])\n",
        "  return resultado \n",
        "\n",
        "def busca_genero_Movie(genero):\n",
        "  condicao = movie_data['listed_in'].str.find(genero) != -1\n",
        "  resultado = pd.DataFrame(movie_data[condicao])\n",
        "  return resultado   "
      ],
      "id": "KriWW_smBF5g",
      "execution_count": null,
      "outputs": []
    },
    {
      "cell_type": "code",
      "metadata": {
        "id": "9qCM2dc8Co6c"
      },
      "source": [
        "busca_genero_TvShow('Action')\n"
      ],
      "id": "9qCM2dc8Co6c",
      "execution_count": null,
      "outputs": []
    }
  ]
}